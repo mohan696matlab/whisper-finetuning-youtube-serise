{
 "cells": [
  {
   "cell_type": "code",
   "execution_count": 1,
   "metadata": {},
   "outputs": [],
   "source": [
    "from datasets import load_dataset\n",
    "import matplotlib.pyplot as plt\n",
    "import numpy as np\n",
    "from IPython.display import Audio\n",
    "from scipy.signal import resample\n",
    "import torch\n",
    "from tqdm import tqdm\n",
    "from torch.utils.data import DataLoader\n",
    "\n",
    "\n",
    "from transformers import WhisperTokenizer\n",
    "from transformers import WhisperFeatureExtractor\n",
    "from transformers import WhisperForConditionalGeneration\n",
    "\n",
    "import evaluate\n",
    "\n",
    "wer  = evaluate.load('wer')\n",
    "\n",
    "\n",
    "\n",
    "def down_sample_audio(audio_original, original_sample_rate):\n",
    "    target_sample_rate = 16000\n",
    "\n",
    "    # Calculate the number of samples for the target sample rate\n",
    "    num_samples = int(len(audio_original) * target_sample_rate / original_sample_rate)\n",
    "\n",
    "    # Resample the audio array to the target sample rate\n",
    "    downsampled_audio = resample(audio_original, num_samples)\n",
    "\n",
    "    return downsampled_audio"
   ]
  },
  {
   "cell_type": "code",
   "execution_count": 2,
   "metadata": {},
   "outputs": [],
   "source": [
    "tokenizer = WhisperTokenizer.from_pretrained(\"openai/whisper-small\",language='bengali',task='transcribe')\n",
    "feature_extractor = WhisperFeatureExtractor.from_pretrained(\"openai/whisper-small\",language='bengali',task='transcribe')\n",
    "model = WhisperForConditionalGeneration.from_pretrained(\"openai/whisper-small\").to('cuda')"
   ]
  },
  {
   "cell_type": "code",
   "execution_count": 3,
   "metadata": {},
   "outputs": [],
   "source": [
    "# from huggingface_hub import notebook_login\n",
    "# notebook_login()"
   ]
  },
  {
   "cell_type": "code",
   "execution_count": 4,
   "metadata": {},
   "outputs": [],
   "source": [
    "from datasets import load_dataset,concatenate_datasets\n",
    "\n",
    "cv_17 = load_dataset(\"mozilla-foundation/common_voice_17_0\", \"or\", split=[\"train\",\"other\",\"test\"])"
   ]
  },
  {
   "cell_type": "code",
   "execution_count": 5,
   "metadata": {},
   "outputs": [],
   "source": [
    "train_data = concatenate_datasets([cv_17[0],cv_17[1]])\n",
    "test_data = cv_17[2]"
   ]
  },
  {
   "cell_type": "code",
   "execution_count": 6,
   "metadata": {},
   "outputs": [
    {
     "data": {
      "text/plain": [
       "'ଆଜି ମୁଁ ସର୍ପଦ୍ୱାରା କଣ ହୋଇଥାନ୍ତି ।'"
      ]
     },
     "execution_count": 6,
     "metadata": {},
     "output_type": "execute_result"
    }
   ],
   "source": [
    "text = train_data[0]['sentence']\n",
    "text"
   ]
  },
  {
   "cell_type": "code",
   "execution_count": 7,
   "metadata": {},
   "outputs": [
    {
     "data": {
      "text/plain": [
       "33"
      ]
     },
     "execution_count": 7,
     "metadata": {},
     "output_type": "execute_result"
    }
   ],
   "source": [
    "len(train_data['sentence'][0])"
   ]
  },
  {
   "cell_type": "code",
   "execution_count": 8,
   "metadata": {},
   "outputs": [
    {
     "name": "stdout",
     "output_type": "stream",
     "text": [
      "0 ଆ\n",
      "1 ଜ\n",
      "2 ି\n",
      "3  \n",
      "4 ମ\n",
      "5 ୁ\n",
      "6 ଁ\n",
      "7  \n",
      "8 ସ\n",
      "9 ର\n",
      "10 ୍\n",
      "11 ପ\n",
      "12 ଦ\n",
      "13 ୍\n",
      "14 ୱ\n",
      "15 ା\n",
      "16 ର\n",
      "17 ା\n",
      "18  \n",
      "19 କ\n",
      "20 ଣ\n",
      "21  \n",
      "22 ହ\n",
      "23 ୋ\n",
      "24 ଇ\n",
      "25 ଥ\n",
      "26 ା\n",
      "27 ନ\n",
      "28 ୍\n",
      "29 ତ\n",
      "30 ି\n",
      "31  \n",
      "32 ।\n"
     ]
    }
   ],
   "source": [
    "for i,c in enumerate(train_data['sentence'][0]):\n",
    "    print(i,c)"
   ]
  },
  {
   "cell_type": "code",
   "execution_count": 9,
   "metadata": {},
   "outputs": [
    {
     "name": "stdout",
     "output_type": "stream",
     "text": [
      "0 50258\n",
      "1 50302\n",
      "2 50359\n",
      "3 50363\n",
      "4 156\n",
      "5 105\n",
      "6 228\n",
      "7 156\n",
      "8 105\n",
      "9 250\n",
      "10 156\n",
      "11 105\n",
      "12 123\n",
      "13 220\n",
      "14 156\n",
      "15 105\n",
      "16 106\n",
      "17 156\n",
      "18 255\n",
      "19 223\n",
      "20 156\n",
      "21 105\n",
      "22 223\n",
      "23 220\n",
      "24 156\n",
      "25 8357\n",
      "26 156\n",
      "27 105\n",
      "28 108\n",
      "29 156\n",
      "30 255\n",
      "31 235\n",
      "32 156\n",
      "33 105\n",
      "34 103\n",
      "35 156\n",
      "36 105\n",
      "37 99\n",
      "38 156\n",
      "39 255\n",
      "40 235\n",
      "41 156\n",
      "42 255\n",
      "43 109\n",
      "44 156\n",
      "45 105\n",
      "46 122\n",
      "47 156\n",
      "48 105\n",
      "49 108\n",
      "50 156\n",
      "51 105\n",
      "52 122\n",
      "53 220\n",
      "54 156\n",
      "55 105\n",
      "56 243\n",
      "57 156\n",
      "58 105\n",
      "59 96\n",
      "60 220\n",
      "61 156\n",
      "62 105\n",
      "63 117\n",
      "64 156\n",
      "65 255\n",
      "66 233\n",
      "67 156\n",
      "68 105\n",
      "69 229\n",
      "70 156\n",
      "71 105\n",
      "72 98\n",
      "73 156\n",
      "74 105\n",
      "75 122\n",
      "76 156\n",
      "77 105\n",
      "78 101\n",
      "79 156\n",
      "80 255\n",
      "81 235\n",
      "82 156\n",
      "83 105\n",
      "84 97\n",
      "85 156\n",
      "86 105\n",
      "87 123\n",
      "88 220\n",
      "89 8703\n",
      "90 97\n",
      "91 50257\n"
     ]
    }
   ],
   "source": [
    "tok_sentence = tokenizer(train_data['sentence'][0])\n",
    "for i,c in enumerate(tok_sentence.input_ids):\n",
    "    print(i,c)"
   ]
  },
  {
   "cell_type": "code",
   "execution_count": 10,
   "metadata": {},
   "outputs": [
    {
     "name": "stdout",
     "output_type": "stream",
     "text": [
      "<|startoftranscript|><|bn|><|transcribe|><|notimestamps|>ଆଜି ମୁଁ ସର୍ପଦ୍ୱାରା କଣ ହୋଇଥାନ୍ତି ।\n"
     ]
    }
   ],
   "source": [
    "from IPython.display import clear_output\n",
    "import time\n",
    "\n",
    "for idx in range(len(tok_sentence.input_ids)):\n",
    "    print(tokenizer.decode(tok_sentence.input_ids[:idx]))\n",
    "    clear_output(wait=True)\n",
    "    time.sleep(.01)"
   ]
  },
  {
   "cell_type": "code",
   "execution_count": 11,
   "metadata": {},
   "outputs": [
    {
     "data": {
      "image/png": "[encoded data removed]",
      "text/plain": [
       "<Figure size 640x480 with 1 Axes>"
      ]
     },
     "metadata": {},
     "output_type": "display_data"
    }
   ],
   "source": [
    "list_of_transcription_lengths = []\n",
    "\n",
    "tokenized_text = tokenizer(train_data['sentence']).input_ids\n",
    "\n",
    "for text in tokenized_text:\n",
    "    list_of_transcription_lengths.append(len(text))\n",
    "    # break\n",
    "\n",
    "plt.hist(list_of_transcription_lengths)\n",
    "plt.xlabel(\"sentence length\")\n",
    "plt.ylabel(\"number of transcripts\")\n",
    "plt.show()"
   ]
  },
  {
   "cell_type": "code",
   "execution_count": 17,
   "metadata": {},
   "outputs": [
    {
     "name": "stdout",
     "output_type": "stream",
     "text": [
      "-------0------\n",
      "true : ଆଜି ମୁଁ ସର୍ପଦ୍ୱାରା କଣ ହୋଇଥାନ୍ତି । \n",
      "pred :  ḍḍḍḍḍḍḍḍḍḍḍḍḍḍḍḍḍḍḍḍḍḍḍḍḍḍḍḍḍḍḍḍḍḍḍḍḍḍḍḍḍḍḍḍḍḍḍḍḍḍḍḍḍḍḍḍḍḍḍḍḍḍḍḍḍḍḍḍḍḍḍḍḍḍḍḍḍḍḍḍḍḍḍḍḍḍḍḍḍḍḍḍḍḍḍḍḍḍḍḍḍḍḍḍḍḍḍḍḍḍḍḍḍḍḍḍḍḍḍḍḍḍḍḍḍḍḍḍḍḍḍḍḍḍḍḍḍḍḍḍḍḍḍḍḍḍḍḍ\n",
      "\n",
      " \n",
      "-------1------\n",
      "true : ଏଠାରେ ନଦୀ ବୃଦ୍ଧିର କାରଣ ହେଲା ବୃଷ୍ଟି । \n",
      "pred :  अटरे नध्दि ब्रुछिरो करनो है ला ब्रुष्टी\n",
      "\n",
      " \n",
      "-------2------\n",
      "true : ଅସଲ କଥାଟା, ରାଜୀବଟା ଭାରି ଦୁଷ୍ଟ । \n",
      "pred :  अश्णलक अथा ता राजी बदा भारी दूस्टा\n",
      "\n",
      " \n",
      "-------3------\n",
      "true : ପ୍ରଭୁଙ୍କର ସେହିପରି ମହିମା, ନୋହିଲେ ନିଆଁ ତେଜରେ ଆଉ କିଏ ସେ ଘରେ ପଶି ପାରିବ? \n",
      "pred :  ḍḍḍḍḍḍḍḍḍḍḍḍḍḍḍḍḍḍḍḍḍḍḍḍḍḍḍḍḍḍḍḍḍḍḍḍḍḍḍḍḍḍḍḍḍḍḍḍḍḍḍḍḍḍḍḍḍḍḍḍḍḍḍḍḍḍḍḍḍḍḍḍḍḍḍḍḍḍḍḍḍḍḍḍḍḍḍḍḍḍḍḍḍḍḍḍḍḍḍḍḍḍḍḍḍḍḍḍḍḍḍḍḍḍḍḍḍḍḍḍḍḍḍḍḍḍḍḍḍḍḍḍḍḍḍḍḍḍḍḍḍḍḍḍḍḍḍḍ\n",
      "\n",
      " \n",
      "-------4------\n",
      "true : ଆସାମୀ ଅଗଣା ମଧ୍ୟରୁ ନେତ ନାମକ ଏକରାସ ଧଳା ରଙ୍ଗର ଗାଈ ପୋଲିସ ବରାମଦ କରିଅଛି । \n",
      "pred :  ḍḍḍḍḍḍḍḍḍḍḍḍḍḍḍḍḍḍḍḍḍḍḍḍḍḍḍḍḍḍḍḍḍḍḍḍḍḍḍḍḍḍḍḍḍḍḍḍḍḍḍḍḍḍḍḍḍḍḍḍḍḍḍḍḍḍḍḍḍḍḍḍḍḍḍḍḍḍḍḍḍḍḍḍḍḍḍḍḍḍḍḍḍḍḍḍḍḍḍḍḍḍḍḍḍḍḍḍḍḍḍḍḍḍḍḍḍḍḍḍḍḍḍḍḍḍḍḍḍḍḍḍḍḍḍḍḍḍḍḍḍḍḍḍḍḍḍḍ\n",
      "\n",
      " \n"
     ]
    }
   ],
   "source": [
    "import torch\n",
    "\n",
    "for idx in range(5):\n",
    "\n",
    "    target = train_data[idx]['sentence']\n",
    "    audio_original = train_data[idx]['audio']['array']\n",
    "    original_sample_rate = train_data[idx]['audio']['sampling_rate']\n",
    "\n",
    "    audio_16000 = down_sample_audio(audio_original, original_sample_rate)\n",
    "\n",
    "    input_feature = feature_extractor(raw_speech=audio_16000,\n",
    "                                    sampling_rate=16000,\n",
    "                                    return_tensors='pt').input_features\n",
    "\n",
    "    with torch.no_grad():\n",
    "        op = model.generate(input_feature.to('cuda'), language='bengali', task='transcribe')\n",
    "\n",
    "\n",
    "    text_pred =  tokenizer.batch_decode(op,skip_special_tokens=True )[0]\n",
    "\n",
    "    print(f'-------{idx}------')\n",
    "    print(f'true : {target} \\npred : {text_pred}')\n",
    "    print('\\n ')"
   ]
  },
  {
   "cell_type": "code",
   "execution_count": 13,
   "metadata": {},
   "outputs": [],
   "source": [
    "\n",
    "class whisper_training_dataset(torch.utils.data.Dataset):\n",
    "    def __init__(self, dataset, max_len):#daatset is huggingface dataset object\n",
    "        self.dataset = dataset\n",
    "        self.max_len = max_len\n",
    "        self.bos_token = model.config.decoder_start_token_id\n",
    "\n",
    "    def __len__(self):\n",
    "        return len(self.dataset)\n",
    "\n",
    "    def __getitem__(self, idx):\n",
    "        item = self.dataset[idx]\n",
    "\n",
    "        audio_data = down_sample_audio(item['audio'][\"array\"], item['audio'][\"sampling_rate\"])\n",
    "        input_features = feature_extractor(audio_data, sampling_rate=16000,return_tensors='pt').input_features[0]\n",
    "\n",
    "        # Process the transcription\n",
    "        transcription = item[\"sentence\"]\n",
    "\n",
    "        # Create labels\n",
    "        labels = tokenizer(transcription, padding=\"max_length\", max_length=self.max_len, truncation=True, return_tensors=\"pt\")\n",
    "        labels = labels[\"input_ids\"].masked_fill(labels['attention_mask'].ne(1), -100)\n",
    "        labels = labels[0][1:]\n",
    "\n",
    "\n",
    "        return {\n",
    "            \"input_features\": input_features,\n",
    "            \"labels\": labels\n",
    "        }"
   ]
  },
  {
   "cell_type": "code",
   "execution_count": 14,
   "metadata": {},
   "outputs": [],
   "source": [
    "dataset = whisper_training_dataset(dataset=train_data, max_len=300)\n",
    "\n",
    "train_dataloader = torch.utils.data.DataLoader(\n",
    "    dataset,\n",
    "    batch_size=8,  # Adjust batch size as needed\n",
    "    shuffle=True,  # Shuffle data during training\n",
    ")"
   ]
  },
  {
   "cell_type": "code",
   "execution_count": 15,
   "metadata": {},
   "outputs": [],
   "source": [
    "def evaluation(model):\n",
    "\n",
    "    device='cuda'\n",
    "\n",
    "    test_dataset = whisper_training_dataset(dataset=test_data, max_len=300)\n",
    "\n",
    "    test_dataloader = torch.utils.data.DataLoader(\n",
    "        test_dataset,\n",
    "        batch_size=8,  # Adjust batch size as needed\n",
    "        shuffle=True,  # Shuffle data during training\n",
    "    )\n",
    "\n",
    "    model.eval()\n",
    "\n",
    "    predictions=[]\n",
    "    references=[]\n",
    "\n",
    "    for batch in tqdm(test_dataloader,total=len(test_dataloader)):\n",
    "\n",
    "        model.train()  # Set model to training mode\n",
    "\n",
    "        input_features, labels = batch[\"input_features\"].to(device), batch[\"labels\"].to(device)\n",
    "\n",
    "        with torch.no_grad():\n",
    "            generated_tokens = model.generate(input_features=input_features,language='bengali', task='transcribe')\n",
    "                        \n",
    "        decoded_preds = tokenizer.batch_decode(generated_tokens, skip_special_tokens=True)\n",
    "        decoded_labels = tokenizer.batch_decode(labels, skip_special_tokens=True)\n",
    "        predictions.extend(decoded_preds)\n",
    "        references.extend(decoded_labels)\n",
    "\n",
    "    WER = wer.compute(predictions=predictions, references=references) * 100\n",
    "\n",
    "    return WER"
   ]
  },
  {
   "cell_type": "code",
   "execution_count": 18,
   "metadata": {},
   "outputs": [
    {
     "name": "stderr",
     "output_type": "stream",
     "text": [
      "100%|██████████| 87/87 [09:35<00:00,  6.62s/it]\n"
     ]
    },
    {
     "data": {
      "text/plain": [
       "164.53400503778337"
      ]
     },
     "execution_count": 18,
     "metadata": {},
     "output_type": "execute_result"
    }
   ],
   "source": [
    "# WER before the training\n",
    "torch.cuda.empty_cache()\n",
    "evaluation(model)"
   ]
  },
  {
   "cell_type": "code",
   "execution_count": 16,
   "metadata": {},
   "outputs": [],
   "source": [
    "# from peft import LoraConfig, PeftModel, LoraModel, LoraConfig, get_peft_model\n",
    "\n",
    "# config = LoraConfig(r=32, lora_alpha=64, target_modules=[\"q_proj\", \"v_proj\", \"q_proj\", \"out_proj\"], lora_dropout=0.05, bias=\"none\")\n",
    "\n",
    "# model = get_peft_model(model, config)\n",
    "# model.print_trainable_parameters()\n",
    "\n",
    "# model.save_pretrained('lora_model')\n",
    "\n",
    "# model = PeftModel.from_pretrained(model,model_id='lora_model')\n",
    "\n",
    "# for n,p in model.named_parameters():\n",
    "#     print(n,p.requires_grad)\n",
    "\n",
    "# Filter parameters with requires_grad=True\n",
    "# requires_grad_params = filter(lambda x: x[1].requires_grad, model.parameters())"
   ]
  },
  {
   "cell_type": "code",
   "execution_count": null,
   "metadata": {},
   "outputs": [
    {
     "data": {
      "image/png": "[encoded data removed]",
      "text/plain": [
       "<Figure size 640x480 with 1 Axes>"
      ]
     },
     "metadata": {},
     "output_type": "display_data"
    },
    {
     "name": "stderr",
     "output_type": "stream",
     "text": [
      "100%|██████████| 87/87 [05:47<00:00,  3.99s/it]  \n"
     ]
    }
   ],
   "source": [
    "from IPython.display import clear_output\n",
    "torch.cuda.empty_cache()\n",
    "\n",
    "model.train()\n",
    "\n",
    "device='cuda'\n",
    "\n",
    "optimizer=torch.optim.AdamW(model.parameters(), lr=1e-5)\n",
    "# optimizer=torch.optim.AdamW(requires_grad_params, lr=5e-4) # Only for LoRA Training\n",
    "\n",
    "max_epochs=2\n",
    "\n",
    "\n",
    "running_wer=[]\n",
    "running_loss=[]\n",
    "\n",
    "\n",
    "\n",
    "for epoch in range(max_epochs):\n",
    "\n",
    "    for batch in tqdm(train_dataloader,total=len(train_dataloader),leave=False):\n",
    "\n",
    "        model.train()  # Set model to training mode\n",
    "\n",
    "        input_features, labels = batch[\"input_features\"].to(device), batch[\"labels\"].to(device)\n",
    "\n",
    "        # Forward pass\n",
    "        outputs = model(input_features, labels=labels)  # Assuming your model takes these inputs\n",
    "        loss = outputs.loss\n",
    "\n",
    "        # Backward pass and optimization\n",
    "        loss.backward()\n",
    "        optimizer.step()\n",
    "        optimizer.zero_grad()  # Reset gradients\n",
    "\n",
    "        running_loss.append(loss.item())\n",
    "\n",
    "        if len(running_loss) % 50 ==0:  # Print loss every 100 batches\n",
    "            plt.plot(running_loss)\n",
    "            plt.xlabel('steps')\n",
    "            plt.ylabel('loss')\n",
    "            clear_output(wait=True)  # Clear the output to keep the plot clean\n",
    "            plt.show()\n",
    "\n",
    "        if len(running_loss) % 100 == 0:  # Save model every 1000 steps\n",
    "            # torch.save(model.state_dict(), f'finetuned_on_odia_steps_{len(running_loss)}.pth')\n",
    "            model.save_pretrained('lora_model')\n",
    "\n",
    "    torch.cuda.empty_cache()\n",
    "    running_wer.append(evaluation(model))\n",
    "    \n"
   ]
  },
  {
   "cell_type": "code",
   "execution_count": 19,
   "metadata": {},
   "outputs": [
    {
     "name": "stderr",
     "output_type": "stream",
     "text": [
      "100%|██████████| 87/87 [05:19<00:00,  3.67s/it]\n"
     ]
    },
    {
     "data": {
      "text/plain": [
       "41.10831234256927"
      ]
     },
     "execution_count": 19,
     "metadata": {},
     "output_type": "execute_result"
    }
   ],
   "source": [
    "model.load_state_dict(torch.load('finetuned_on_odia_steps_1000.pth', weights_only=True))# loading the model\n",
    "model.eval()\n",
    "model.to('cuda')\n",
    "\n",
    "\n",
    "torch.cuda.empty_cache()\n",
    "evaluation(model)"
   ]
  },
  {
   "cell_type": "code",
   "execution_count": 18,
   "metadata": {},
   "outputs": [
    {
     "name": "stdout",
     "output_type": "stream",
     "text": [
      "-------0------\n",
      "true : ମଜଲିସ ଆଗରେ ଦର ଛିଣ୍ତିଲା ଅଢ଼େଇ ଟଙ୍କା । \n",
      "pred : ମଜଲିସ ଆଗରେ ଦର ଛଣ୍ଡିଲା ଅଢ଼େଇ ଟଙ୍କା ।\n",
      "\n",
      " \n",
      "-------1------\n",
      "true : ପହିଲୁ ପହିଲୁ କହିଲୁ, ପାଠ ପଢ଼ି ସାରିଲେ ବାହା ହେବୁ । \n",
      "pred : ପହିଲୁ, ପହିଲୁ, କହିଲୁ, ପାଠ ପଢ଼ି ସାରିଲେ ବାହା ହେବୁ ।\n",
      "\n",
      " \n",
      "-------2------\n",
      "true : ସେହି ଶବ୍ଦ ଶୁଣି ବିଲୁଆ ଧଡ଼ପଡ଼ ହୋଇ ପଳାଇଗଲା । \n",
      "pred : ସେହି ଶବ୍ଦ ଶୁଣି ବିଲ୍ଵା ଢ଼ ପଡ଼ ହୋଇ ପଳାଇଗଲା ।\n",
      "\n",
      " \n",
      "-------3------\n",
      "true : ଆପଣ ଛେଉଣ୍ଡଟିକୁ ଟିକିଏ ଦୟା କରନ୍ତୁ, ସେହି ପାଞ୍ଚଶରେ ମଙ୍ଗି ଯାନ୍ତୁ । \n",
      "pred : ଆପଣ ଅ ଛେଉଁଟଟିକୁ ଉଟିକେ ଦୟାକରନ୍ତ ସେଇ ପାଚାଷରେ ପଙ୍କି ଯେନ୍ଥୁ ।\n",
      "\n",
      " \n",
      "-------4------\n",
      "true : ଛଅ \n",
      "pred : ଛଅ\n",
      "\n",
      " \n"
     ]
    }
   ],
   "source": [
    "model.eval()\n",
    "\n",
    "test_data = load_dataset(\"mozilla-foundation/common_voice_17_0\", \"or\", split=\"test\")\n",
    "\n",
    "for idx in range(5):\n",
    "\n",
    "    target = test_data[idx]['sentence']\n",
    "    audio_original = test_data[idx]['audio']['array']\n",
    "    original_sample_rate = test_data[idx]['audio']['sampling_rate']\n",
    "\n",
    "    audio_16000 = down_sample_audio(audio_original, original_sample_rate)\n",
    "\n",
    "    input_feature = feature_extractor(raw_speech=audio_16000,\n",
    "                                    sampling_rate=16000,\n",
    "                                    return_tensors='pt').input_features\n",
    "\n",
    "    with torch.no_grad():\n",
    "        op = model.generate(input_feature.to('cuda'), language='bengali', task='transcribe')\n",
    "\n",
    "\n",
    "    text_pred =  tokenizer.batch_decode(op,skip_special_tokens=True )[0]\n",
    "\n",
    "    print(f'-------{idx}------')\n",
    "    print(f'true : {target} \\npred : {text_pred}')\n",
    "    print('\\n ')"
   ]
  },
  {
   "cell_type": "code",
   "execution_count": null,
   "metadata": {},
   "outputs": [
    {
     "data": {
      "text/plain": [
       "WhisperForConditionalGeneration(\n",
       "  (model): WhisperModel(\n",
       "    (encoder): WhisperEncoder(\n",
       "      (conv1): Conv1d(80, 768, kernel_size=(3,), stride=(1,), padding=(1,))\n",
       "      (conv2): Conv1d(768, 768, kernel_size=(3,), stride=(2,), padding=(1,))\n",
       "      (embed_positions): Embedding(1500, 768)\n",
       "      (layers): ModuleList(\n",
       "        (0-11): 12 x WhisperEncoderLayer(\n",
       "          (self_attn): WhisperSdpaAttention(\n",
       "            (k_proj): Linear(in_features=768, out_features=768, bias=False)\n",
       "            (v_proj): Linear(in_features=768, out_features=768, bias=True)\n",
       "            (q_proj): Linear(in_features=768, out_features=768, bias=True)\n",
       "            (out_proj): Linear(in_features=768, out_features=768, bias=True)\n",
       "          )\n",
       "          (self_attn_layer_norm): LayerNorm((768,), eps=1e-05, elementwise_affine=True)\n",
       "          (activation_fn): GELUActivation()\n",
       "          (fc1): Linear(in_features=768, out_features=3072, bias=True)\n",
       "          (fc2): Linear(in_features=3072, out_features=768, bias=True)\n",
       "          (final_layer_norm): LayerNorm((768,), eps=1e-05, elementwise_affine=True)\n",
       "        )\n",
       "      )\n",
       "      (layer_norm): LayerNorm((768,), eps=1e-05, elementwise_affine=True)\n",
       "    )\n",
       "    (decoder): WhisperDecoder(\n",
       "      (embed_tokens): Embedding(51865, 768, padding_idx=50257)\n",
       "      (embed_positions): WhisperPositionalEmbedding(448, 768)\n",
       "      (layers): ModuleList(\n",
       "        (0-11): 12 x WhisperDecoderLayer(\n",
       "          (self_attn): WhisperSdpaAttention(\n",
       "            (k_proj): Linear(in_features=768, out_features=768, bias=False)\n",
       "            (v_proj): Linear(in_features=768, out_features=768, bias=True)\n",
       "            (q_proj): Linear(in_features=768, out_features=768, bias=True)\n",
       "            (out_proj): Linear(in_features=768, out_features=768, bias=True)\n",
       "          )\n",
       "          (activation_fn): GELUActivation()\n",
       "          (self_attn_layer_norm): LayerNorm((768,), eps=1e-05, elementwise_affine=True)\n",
       "          (encoder_attn): WhisperSdpaAttention(\n",
       "            (k_proj): Linear(in_features=768, out_features=768, bias=False)\n",
       "            (v_proj): Linear(in_features=768, out_features=768, bias=True)\n",
       "            (q_proj): Linear(in_features=768, out_features=768, bias=True)\n",
       "            (out_proj): Linear(in_features=768, out_features=768, bias=True)\n",
       "          )\n",
       "          (encoder_attn_layer_norm): LayerNorm((768,), eps=1e-05, elementwise_affine=True)\n",
       "          (fc1): Linear(in_features=768, out_features=3072, bias=True)\n",
       "          (fc2): Linear(in_features=3072, out_features=768, bias=True)\n",
       "          (final_layer_norm): LayerNorm((768,), eps=1e-05, elementwise_affine=True)\n",
       "        )\n",
       "      )\n",
       "      (layer_norm): LayerNorm((768,), eps=1e-05, elementwise_affine=True)\n",
       "    )\n",
       "  )\n",
       "  (proj_out): Linear(in_features=768, out_features=51865, bias=False)\n",
       ")"
      ]
     },
     "execution_count": 3,
     "metadata": {},
     "output_type": "execute_result"
    }
   ],
   "source": []
  },
  {
   "cell_type": "code",
   "execution_count": 19,
   "metadata": {},
   "outputs": [],
   "source": [
    "from transformers import pipeline\n",
    "\n",
    "pipe = pipeline(\n",
    "    \"automatic-speech-recognition\",\n",
    "    model=model,\n",
    "    tokenizer=tokenizer,\n",
    "    feature_extractor=feature_extractor,\n",
    "    chunk_length_s=30, \n",
    "    stride_length_s=10, \n",
    "    device='cuda',\n",
    ")"
   ]
  },
  {
   "cell_type": "code",
   "execution_count": 20,
   "metadata": {},
   "outputs": [
    {
     "name": "stderr",
     "output_type": "stream",
     "text": [
      "c:\\Users\\User\\miniconda3\\envs\\torch_env\\Lib\\site-packages\\transformers\\models\\whisper\\generation_whisper.py:509: FutureWarning: The input name `inputs` is deprecated. Please make sure to use `input_features` instead.\n",
      "  warnings.warn(\n",
      "Due to a bug fix in https://github.com/huggingface/transformers/pull/28687 transcription using a multilingual Whisper will default to language detection followed by transcription instead of translation to English.This might be a breaking change for your use case. If you want to instead always translate your audio to English, make sure to pass `language='en'`.\n"
     ]
    },
    {
     "data": {
      "text/plain": [
       "{'text': 'କ୍ୟାଦେକୁଛନ୍ତି ଗୋଟଉଛି କଲମ ଗୋଟଉଛି ରୁମାଲ ଗୋଟଉଛି ଘଣ୍ତା, ଏଇ ତିନିଟା ଭୁଲେ ମଧ୍ୟ କାରୁ ଗିଥ୍ଣେବେନି କି ଗିଥିପ୍ଥିବ୍ତି ଘିଥିପ୍ଥିନି କିଥିପ୍ଥିପ୍ଥିପ୍ଥିପ୍ଥିପ୍ଥିପ୍ଥିପ୍ଥିପ୍ଥିପ୍ଥିପ୍ଥନେଇ ଯାଉଛନ୍ତି, ସେଇଟା ଆପଣଙ୍କର ଗୁର୍ ଗୁର୍ଲକ୍ ମାନେ ଭଲାର ଭଲେର ଆପଣଙ୍କର କାହାକୁ ଦେଇ ଦେଇ ଦେଇଦେବିଥିବେ ଦାନ ଅଲଗା ଦକେତିଣା ଲଗା, ଦକ୍ଷିଣା ମାନେ ତାଙ୍କୁ କହିଥାହୁ ଯେତେବିକୁ ଆମରକୁଣସି ପୂଜାପାଠ କରିଥାଉ ଆମରରନଣଭଭରାମଙ୍କୁ କିଛିଜୁର ଦେଇଥାହୁ ସେଟାହୁଛି ଦକିଛି ଆମରାମରଭ�ନ ବ୍ରାମଣଙ୍କୁ କିଛଦକ୍ଷିଣା ମାନେ ତାଙ୍କ ଦାନ କିଛି କର୍ମ କରେଇଲେ ଯେବାପଳରେ ଆମେ ତାଙ୍କୁ କିଛି ପ୍ରାପ୍ୟ ସେଉମ୍ଧାଇ ଦେଲେ କିନ୍ତୁ ଦାନଟାହୁଇଛି ସମ୍ପୂନ ଅଲୋଗା, ଆମର ବେଳବେବେକଣ ହେର ଆନଭେଲେ ଆପଣିଥିବିବିବିବିବିବିବି'}"
      ]
     },
     "execution_count": 20,
     "metadata": {},
     "output_type": "execute_result"
    }
   ],
   "source": [
    "result = pipe(\"odia_audio_youtube.mp3\")\n",
    "result"
   ]
  },
  {
   "cell_type": "code",
   "execution_count": null,
   "metadata": {},
   "outputs": [],
   "source": []
  }
 ],
 "metadata": {
  "kernelspec": {
   "display_name": "torch_env",
   "language": "python",
   "name": "python3"
  },
  "language_info": {
   "codemirror_mode": {
    "name": "ipython",
    "version": 3
   },
   "file_extension": ".py",
   "mimetype": "text/x-python",
   "name": "python",
   "nbconvert_exporter": "python",
   "pygments_lexer": "ipython3",
   "version": "3.11.10"
  }
 },
 "nbformat": 4,
 "nbformat_minor": 2
}
