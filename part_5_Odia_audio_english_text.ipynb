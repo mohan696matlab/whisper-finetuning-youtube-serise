{
 "cells": [
  {
   "cell_type": "code",
   "execution_count": 1,
   "metadata": {},
   "outputs": [],
   "source": [
    "from datasets import load_dataset\n",
    "import matplotlib.pyplot as plt\n",
    "import numpy as np\n",
    "from IPython.display import Audio\n",
    "from scipy.signal import resample\n",
    "import torch\n",
    "from tqdm import tqdm\n",
    "from torch.utils.data import DataLoader\n",
    "\n",
    "\n",
    "from transformers import WhisperTokenizer\n",
    "from transformers import WhisperFeatureExtractor\n",
    "from transformers import WhisperForConditionalGeneration\n",
    "\n",
    "import evaluate\n",
    "#pip install jiwer\n",
    "\n",
    "wer  = evaluate.load('wer')\n",
    "\n",
    "\n",
    "\n",
    "def down_sample_audio(audio_original, original_sample_rate):\n",
    "    target_sample_rate = 16000\n",
    "\n",
    "    # Calculate the number of samples for the target sample rate\n",
    "    num_samples = int(len(audio_original) * target_sample_rate / original_sample_rate)\n",
    "\n",
    "    # Resample the audio array to the target sample rate\n",
    "    downsampled_audio = resample(audio_original, num_samples)\n",
    "\n",
    "    return downsampled_audio"
   ]
  },
  {
   "cell_type": "code",
   "execution_count": 12,
   "metadata": {},
   "outputs": [],
   "source": [
    "tokenizer = WhisperTokenizer.from_pretrained(\"openai/whisper-small\",language='bengali',task='translate')\n",
    "feature_extractor = WhisperFeatureExtractor.from_pretrained(\"openai/whisper-small\",language='bengali',task='translate')\n",
    "model = WhisperForConditionalGeneration.from_pretrained(\"openai/whisper-small\").to('cuda')"
   ]
  },
  {
   "cell_type": "code",
   "execution_count": 29,
   "metadata": {},
   "outputs": [],
   "source": [
    "from datasets import load_dataset,concatenate_datasets\n",
    "\n",
    "asr_dataset = load_dataset(\"Mohan-diffuser/odia-english-ASR\")"
   ]
  },
  {
   "cell_type": "code",
   "execution_count": 30,
   "metadata": {},
   "outputs": [
    {
     "data": {
      "text/plain": [
       "{'id': 62,\n",
       " 'num_samples': 159360,\n",
       " 'path': '/home/mohan.dash/.cache/huggingface/datasets/downloads/extracted/e2fcce8118681935ebfe4ee7e9b039155b764427d2269ffa5a66a0328fe9ec55/10020140876560357327.wav',\n",
       " 'audio': {'path': '10020140876560357327.wav',\n",
       "  'array': array([ 0.        ,  0.        ,  0.        , ..., -0.00582969,\n",
       "         -0.00332552, -0.00426018]),\n",
       "  'sampling_rate': 16000},\n",
       " 'transcription': 'ତାଙ୍କର 2 ଘଣ୍ଟାର ଭାଷଣରେ ସେ କହିଥିଲେ ଯେ ଆଜି apple ତାର ଫୋନକୁ ପୁଣି ଉଦ୍ଭାବନ କରିବାକୁ ଯାଉଛି ଆମେ ଆଜି ଇତିହାସ ରଚିବାକୁ ଯାଉଛୁ',\n",
       " 'raw_transcription': 'ତାଙ୍କର 2 ଘଣ୍ଟାର ଭାଷଣରେ ସେ କହିଥିଲେ ଯେ \"ଆଜି Apple ତାର ଫୋନକୁ ପୁଣି ଉଦ୍ଭାବନ କରିବାକୁ ଯାଉଛି, ଆମେ ଆଜି ଇତିହାସ ରଚିବାକୁ ଯାଉଛୁ।\"',\n",
       " 'gender': 1,\n",
       " 'lang_id': 72,\n",
       " 'language': 'Oriya',\n",
       " 'lang_group_id': 4,\n",
       " 'eng_translation': 'In his 2-hour speech, he said that today Apple is going to reinvent its phone. We are going to make history today.'}"
      ]
     },
     "execution_count": 30,
     "metadata": {},
     "output_type": "execute_result"
    }
   ],
   "source": [
    "asr_dataset['train'][0]\n"
   ]
  },
  {
   "cell_type": "code",
   "execution_count": 31,
   "metadata": {},
   "outputs": [
    {
     "data": {
      "image/png": "[encoded data removed]",
      "text/plain": [
       "<Figure size 640x480 with 1 Axes>"
      ]
     },
     "metadata": {},
     "output_type": "display_data"
    }
   ],
   "source": [
    "list_of_transcription_lengths = []\n",
    "\n",
    "tokenized_text = tokenizer(asr_dataset['train']['eng_translation']).input_ids\n",
    "\n",
    "for text in tokenized_text:\n",
    "    list_of_transcription_lengths.append(len(text))\n",
    "    # break\n",
    "\n",
    "plt.hist(list_of_transcription_lengths)\n",
    "plt.xlabel(\"sentence length\")\n",
    "plt.ylabel(\"number of transcripts\")\n",
    "plt.show()"
   ]
  },
  {
   "cell_type": "code",
   "execution_count": 32,
   "metadata": {},
   "outputs": [
    {
     "name": "stdout",
     "output_type": "stream",
     "text": [
      "-------0------\n",
      "true : In his 2-hour speech, he said that today Apple is going to reinvent its phone. We are going to make history today. \n",
      "pred :  I have been in the forest for 2 hours and I am going to do some work on the water and the fire.\n",
      "\n",
      " \n",
      "-------1------\n",
      "true : The games started with good weather in the morning 10:00 and apart from a midnight thunderstorm which cleared up quickly it was a perfect day for 7th Rugby. \n",
      "pred :  The forest was completely destroyed by the heavy rain and the forest was completely destroyed by the heavy rain and the forest was completely destroyed by the heavy rain and the forest was completely destroyed by the heavy rain and the forest was completely destroyed by the heavy rain and the forest was completely destroyed by the heavy rain and the forest was completely destroyed by the heavy rain and the forest was completely destroyed by the heavy rain and the forest was completely destroyed by the heavy rain and the forest was completely destroyed by the heavy rain and the forest was completely destroyed by the heavy rain and the forest was completely destroyed by the heavy rain and the forest was completely destroyed by the heavy rain and the forest was completely destroyed by the heavy rain and the forest was completely destroyed by the heavy rain and the forest was completely destroyed by the heavy rain and the forest was completely destroyed by the heavy rain and the forest was completely destroyed by the heavy rain and the forest was completely destroyed by the heavy rain and the forest was completely destroyed by the heavy rain and the forest was completely destroyed by the heavy rain and the forest was completely destroyed by the heavy rain and the forest was completely destroyed by the heavy rain and the forest was completely destroyed by the heavy rain and the forest was completely destroyed by the heavy rain and the forest was completely destroyed by the heavy rain and the forest was completely destroyed by the heavy rain and the forest was completely destroyed by the heavy rain and the forest was completely destroyed by the heavy rain and the forest was completely destroyed by the heavy rain and the forest was completely destroyed by the heavy rain and the forest was completely destroyed by the heavy rain and the forest was completely destroyed by the heavy rain and the forest was completely destroyed by the heavy rain and the forest was completely destroyed by the heavy rain and the forest was completely destroyed by the heavy rain and the forest was completely destroyed by the heavy rain and the forest was completely destroyed by the heavy rain and the forest was completely destroyed by the heavy rain and the forest was completely destroyed by the heavy rain and the forest was completely destroyed by the heavy rain and the forest was completely destroyed by the heavy rain and the forest was completely destroyed by the heavy rain and the forest was completely destroyed by the heavy rain and the forest was completely\n",
      "\n",
      " \n",
      "-------2------\n",
      "true : If a rider is thrown from the horse but gets stuck in the saddle, the horse will pull away if they run. There are a number of precautions that can be taken to avoid this risk. \n",
      "pred :  If the root is damaged, the root will be damaged and the root will be damaged. This is the reason why many people can't afford to do this.\n",
      "\n",
      " \n",
      "-------3------\n",
      "true : In 1995, he was named the best player in the history of Partizan. \n",
      "pred :  I felt like I was going to be a part of this tradition\n",
      "\n",
      " \n",
      "-------4------\n",
      "true : It is still in production, but more importantly, the image sensor formats of digital cameras have inherited their aspect ratios. \n",
      "pred :  I am going to show you the details of the camera in detail.\n",
      "\n",
      " \n"
     ]
    }
   ],
   "source": [
    "import torch\n",
    "\n",
    "for idx in range(5):\n",
    "\n",
    "    target = asr_dataset['train'][idx]['eng_translation']\n",
    "    audio_original = asr_dataset['train'][idx]['audio']['array']\n",
    "    original_sample_rate = asr_dataset['train'][idx]['audio']['sampling_rate']\n",
    "\n",
    "    audio_16000 = down_sample_audio(audio_original, original_sample_rate)\n",
    "\n",
    "    input_feature = feature_extractor(raw_speech=audio_16000,\n",
    "                                    sampling_rate=16000,\n",
    "                                    return_tensors='pt').input_features\n",
    "\n",
    "    with torch.no_grad():\n",
    "        op = model.generate(input_feature.to('cuda'), language='bengali', task='translate')\n",
    "\n",
    "\n",
    "    text_pred =  tokenizer.batch_decode(op,skip_special_tokens=True )[0]\n",
    "\n",
    "    print(f'-------{idx}------')\n",
    "    print(f'true : {target} \\npred : {text_pred}')\n",
    "    print('\\n ')"
   ]
  },
  {
   "cell_type": "code",
   "execution_count": 33,
   "metadata": {},
   "outputs": [],
   "source": [
    "\n",
    "class whisper_training_dataset(torch.utils.data.Dataset):\n",
    "    def __init__(self, dataset, max_len):#daatset is huggingface dataset object\n",
    "        self.dataset = dataset\n",
    "        self.max_len = max_len\n",
    "        self.bos_token = model.config.decoder_start_token_id\n",
    "\n",
    "    def __len__(self):\n",
    "        return len(self.dataset)\n",
    "\n",
    "    def __getitem__(self, idx):\n",
    "        item = self.dataset[idx]\n",
    "\n",
    "        audio_data = down_sample_audio(item['audio'][\"array\"], item['audio'][\"sampling_rate\"])\n",
    "        input_features = feature_extractor(audio_data, sampling_rate=16000,return_tensors='pt').input_features[0]\n",
    "\n",
    "        # Process the transcription\n",
    "        transcription = item['eng_translation']\n",
    "\n",
    "        # Create labels\n",
    "        labels = tokenizer(transcription, padding=\"max_length\", max_length=self.max_len, truncation=True, return_tensors=\"pt\")\n",
    "        labels = labels[\"input_ids\"].masked_fill(labels['attention_mask'].ne(1), -100)\n",
    "        labels = labels[0][1:]\n",
    "\n",
    "\n",
    "        return {\n",
    "            \"input_features\": input_features,\n",
    "            \"labels\": labels\n",
    "        }"
   ]
  },
  {
   "cell_type": "code",
   "execution_count": 34,
   "metadata": {},
   "outputs": [],
   "source": [
    "dataset = whisper_training_dataset(dataset=asr_dataset['train'], max_len=60)\n",
    "\n",
    "train_dataloader = torch.utils.data.DataLoader(\n",
    "    dataset,\n",
    "    batch_size=8,  # Adjust batch size as needed\n",
    "    shuffle=True,  # Shuffle data during training\n",
    ")"
   ]
  },
  {
   "cell_type": "code",
   "execution_count": 42,
   "metadata": {},
   "outputs": [],
   "source": [
    "def evaluation(model):\n",
    "\n",
    "    device='cuda'\n",
    "\n",
    "    test_dataset = whisper_training_dataset(dataset=asr_dataset['validation'], max_len=60)\n",
    "\n",
    "    test_dataloader = torch.utils.data.DataLoader(\n",
    "        test_dataset,\n",
    "        batch_size=8,  # Adjust batch size as needed\n",
    "        shuffle=True,  # Shuffle data during training\n",
    "    )\n",
    "\n",
    "    model.eval()\n",
    "\n",
    "    predictions=[]\n",
    "    references=[]\n",
    "\n",
    "    for batch in tqdm(test_dataloader,total=len(test_dataloader)):\n",
    "        \n",
    "\n",
    "        model.eval()  # Set model to training mode\n",
    "        model.config.use_cache = True\n",
    "\n",
    "        input_features, labels = batch[\"input_features\"].to(device), batch[\"labels\"].to(device)\n",
    "\n",
    "        with torch.no_grad():\n",
    "            generated_tokens = model.generate(input_features=input_features,language='bengali', task='translate')\n",
    "                        \n",
    "        decoded_preds = tokenizer.batch_decode(generated_tokens, skip_special_tokens=True)\n",
    "        decoded_labels = tokenizer.batch_decode(labels, skip_special_tokens=True)\n",
    "        predictions.extend(decoded_preds)\n",
    "        references.extend(decoded_labels)\n",
    "\n",
    "    WER = wer.compute(predictions=predictions, references=references) * 100\n",
    "\n",
    "    return WER"
   ]
  },
  {
   "cell_type": "code",
   "execution_count": null,
   "metadata": {},
   "outputs": [
    {
     "name": "stderr",
     "output_type": "stream",
     "text": [
      " 59%|█████▉    | 29/49 [02:21<01:53,  5.68s/it]"
     ]
    }
   ],
   "source": [
    "# WER before the training\n",
    "torch.cuda.empty_cache()\n",
    "evaluation(model)"
   ]
  },
  {
   "cell_type": "code",
   "execution_count": null,
   "metadata": {},
   "outputs": [],
   "source": [
    "from peft import LoraConfig, PeftModel, LoraModel, LoraConfig, get_peft_model\n",
    "\n",
    "config = LoraConfig(r=32, lora_alpha=32, target_modules=[\"q_proj\", \"v_proj\", \"q_proj\", \"out_proj\"], lora_dropout=0.05, bias=\"none\")\n",
    "\n",
    "model = get_peft_model(model, config)\n",
    "model.print_trainable_parameters()\n",
    "\n",
    "# model.save_pretrained('lora_model')\n",
    "\n",
    "# model = PeftModel.from_pretrained(model,model_id='lora_model')\n",
    "\n",
    "# for n,p in model.named_parameters():\n",
    "#     print(n,p.requires_grad)\n",
    "\n",
    "# Filter parameters with requires_grad=True\n",
    "requires_grad_params = filter(lambda x: x[1].requires_grad, model.parameters())"
   ]
  },
  {
   "cell_type": "code",
   "execution_count": null,
   "metadata": {},
   "outputs": [
    {
     "data": {
      "image/png": "[encoded data removed]",
      "text/plain": [
       "<Figure size 640x480 with 1 Axes>"
      ]
     },
     "metadata": {},
     "output_type": "display_data"
    },
    {
     "name": "stderr",
     "output_type": "stream",
     "text": [
      "100%|██████████| 87/87 [05:47<00:00,  3.99s/it]  \n"
     ]
    }
   ],
   "source": [
    "from IPython.display import clear_output\n",
    "torch.cuda.empty_cache()\n",
    "\n",
    "model.config.use_cache = False\n",
    "model.train()\n",
    "\n",
    "device='cuda'\n",
    "\n",
    "optimizer=torch.optim.AdamW(model.parameters(), lr=1e-5)\n",
    "# optimizer=torch.optim.AdamW(requires_grad_params, lr=5e-4) # Only for LoRA Training\n",
    "\n",
    "max_epochs=2\n",
    "\n",
    "\n",
    "running_wer=[]\n",
    "running_loss=[]\n",
    "\n",
    "\n",
    "\n",
    "for epoch in range(max_epochs):\n",
    "\n",
    "    for batch in tqdm(train_dataloader,total=len(train_dataloader),leave=False):\n",
    "\n",
    "        model.train()  # Set model to training mode\n",
    "\n",
    "        input_features, labels = batch[\"input_features\"].to(device), batch[\"labels\"].to(device)\n",
    "\n",
    "        # Forward pass\n",
    "        outputs = model(input_features, labels=labels)  # Assuming your model takes these inputs\n",
    "        loss = outputs.loss\n",
    "\n",
    "        # Backward pass and optimization\n",
    "        loss.backward()\n",
    "        optimizer.step()\n",
    "        optimizer.zero_grad()  # Reset gradients\n",
    "\n",
    "        running_loss.append(loss.item())\n",
    "\n",
    "        if len(running_loss) % 50 ==0:  # Print loss every 50 batches\n",
    "            plt.plot(running_loss)\n",
    "            plt.xlabel('steps')\n",
    "            plt.ylabel('loss')\n",
    "            clear_output(wait=True)  # Clear the output to keep the plot clean\n",
    "            plt.show()\n",
    "\n",
    "        if len(running_loss) % 100 == 0:  # Save model every 100 steps\n",
    "            # torch.save(model.state_dict(), f'finetuned_on_odia_steps_{len(running_loss)}.pth')\n",
    "            model.save_pretrained('lora_model')\n",
    "\n",
    "    torch.cuda.empty_cache()\n",
    "    running_wer.append(evaluation(model))\n",
    "    \n"
   ]
  },
  {
   "cell_type": "code",
   "execution_count": 19,
   "metadata": {},
   "outputs": [
    {
     "name": "stderr",
     "output_type": "stream",
     "text": [
      "100%|██████████| 87/87 [05:19<00:00,  3.67s/it]\n"
     ]
    },
    {
     "data": {
      "text/plain": [
       "41.10831234256927"
      ]
     },
     "execution_count": 19,
     "metadata": {},
     "output_type": "execute_result"
    }
   ],
   "source": [
    "model.load_state_dict(torch.load('finetuned_on_odia_steps_1000.pth', weights_only=True))# loading the model\n",
    "model.eval()\n",
    "model.to('cuda')\n",
    "\n",
    "\n",
    "torch.cuda.empty_cache()\n",
    "evaluation(model)"
   ]
  },
  {
   "cell_type": "code",
   "execution_count": null,
   "metadata": {},
   "outputs": [
    {
     "name": "stdout",
     "output_type": "stream",
     "text": [
      "-------0------\n",
      "true : ମଜଲିସ ଆଗରେ ଦର ଛିଣ୍ତିଲା ଅଢ଼େଇ ଟଙ୍କା । \n",
      "pred : ମଜଲିସ ଆଗରେ ଦର ଛଣ୍ଡିଲା ଅଢ଼େଇ ଟଙ୍କା ।\n",
      "\n",
      " \n",
      "-------1------\n",
      "true : ପହିଲୁ ପହିଲୁ କହିଲୁ, ପାଠ ପଢ଼ି ସାରିଲେ ବାହା ହେବୁ । \n",
      "pred : ପହିଲୁ, ପହିଲୁ, କହିଲୁ, ପାଠ ପଢ଼ି ସାରିଲେ ବାହା ହେବୁ ।\n",
      "\n",
      " \n",
      "-------2------\n",
      "true : ସେହି ଶବ୍ଦ ଶୁଣି ବିଲୁଆ ଧଡ଼ପଡ଼ ହୋଇ ପଳାଇଗଲା । \n",
      "pred : ସେହି ଶବ୍ଦ ଶୁଣି ବିଲ୍ଵା ଢ଼ ପଡ଼ ହୋଇ ପଳାଇଗଲା ।\n",
      "\n",
      " \n",
      "-------3------\n",
      "true : ଆପଣ ଛେଉଣ୍ଡଟିକୁ ଟିକିଏ ଦୟା କରନ୍ତୁ, ସେହି ପାଞ୍ଚଶରେ ମଙ୍ଗି ଯାନ୍ତୁ । \n",
      "pred : ଆପଣ ଅ ଛେଉଁଟଟିକୁ ଉଟିକେ ଦୟାକରନ୍ତ ସେଇ ପାଚାଷରେ ପଙ୍କି ଯେନ୍ଥୁ ।\n",
      "\n",
      " \n",
      "-------4------\n",
      "true : ଛଅ \n",
      "pred : ଛଅ\n",
      "\n",
      " \n"
     ]
    }
   ],
   "source": [
    "model.eval()\n",
    "\n",
    "test_data = load_dataset(\"mozilla-foundation/common_voice_17_0\", \"or\", split=\"test\")\n",
    "\n",
    "for idx in range(5):\n",
    "\n",
    "    target = test_data[idx]['sentence']\n",
    "    audio_original = test_data[idx]['audio']['array']\n",
    "    original_sample_rate = test_data[idx]['audio']['sampling_rate']\n",
    "\n",
    "    audio_16000 = down_sample_audio(audio_original, original_sample_rate)\n",
    "\n",
    "    input_feature = feature_extractor(raw_speech=audio_16000,\n",
    "                                    sampling_rate=16000,\n",
    "                                    return_tensors='pt').input_features\n",
    "\n",
    "    with torch.no_grad():\n",
    "        op = model.generate(input_feature.to('cuda'), language='bengali', task='translate')\n",
    "\n",
    "\n",
    "    text_pred =  tokenizer.batch_decode(op,skip_special_tokens=True )[0]\n",
    "\n",
    "    print(f'-------{idx}------')\n",
    "    print(f'true : {target} \\npred : {text_pred}')\n",
    "    print('\\n ')"
   ]
  },
  {
   "cell_type": "code",
   "execution_count": 19,
   "metadata": {},
   "outputs": [],
   "source": [
    "from transformers import pipeline\n",
    "\n",
    "pipe = pipeline(\n",
    "    \"automatic-speech-recognition\",\n",
    "    model=model,\n",
    "    tokenizer=tokenizer,\n",
    "    feature_extractor=feature_extractor,\n",
    "    chunk_length_s=30, \n",
    "    stride_length_s=10, \n",
    "    device='cuda',\n",
    ")"
   ]
  },
  {
   "cell_type": "code",
   "execution_count": 20,
   "metadata": {},
   "outputs": [
    {
     "name": "stderr",
     "output_type": "stream",
     "text": [
      "c:\\Users\\User\\miniconda3\\envs\\torch_env\\Lib\\site-packages\\transformers\\models\\whisper\\generation_whisper.py:509: FutureWarning: The input name `inputs` is deprecated. Please make sure to use `input_features` instead.\n",
      "  warnings.warn(\n",
      "Due to a bug fix in https://github.com/huggingface/transformers/pull/28687 transcription using a multilingual Whisper will default to language detection followed by transcription instead of translation to English.This might be a breaking change for your use case. If you want to instead always translate your audio to English, make sure to pass `language='en'`.\n"
     ]
    },
    {
     "data": {
      "text/plain": [
       "{'text': 'କ୍ୟାଦେକୁଛନ୍ତି ଗୋଟଉଛି କଲମ ଗୋଟଉଛି ରୁମାଲ ଗୋଟଉଛି ଘଣ୍ତା, ଏଇ ତିନିଟା ଭୁଲେ ମଧ୍ୟ କାରୁ ଗିଥ୍ଣେବେନି କି ଗିଥିପ୍ଥିବ୍ତି ଘିଥିପ୍ଥିନି କିଥିପ୍ଥିପ୍ଥିପ୍ଥିପ୍ଥିପ୍ଥିପ୍ଥିପ୍ଥିପ୍ଥିପ୍ଥିପ୍ଥନେଇ ଯାଉଛନ୍ତି, ସେଇଟା ଆପଣଙ୍କର ଗୁର୍ ଗୁର୍ଲକ୍ ମାନେ ଭଲାର ଭଲେର ଆପଣଙ୍କର କାହାକୁ ଦେଇ ଦେଇ ଦେଇଦେବିଥିବେ ଦାନ ଅଲଗା ଦକେତିଣା ଲଗା, ଦକ୍ଷିଣା ମାନେ ତାଙ୍କୁ କହିଥାହୁ ଯେତେବିକୁ ଆମରକୁଣସି ପୂଜାପାଠ କରିଥାଉ ଆମରରନଣଭଭରାମଙ୍କୁ କିଛିଜୁର ଦେଇଥାହୁ ସେଟାହୁଛି ଦକିଛି ଆମରାମରଭ�ନ ବ୍ରାମଣଙ୍କୁ କିଛଦକ୍ଷିଣା ମାନେ ତାଙ୍କ ଦାନ କିଛି କର୍ମ କରେଇଲେ ଯେବାପଳରେ ଆମେ ତାଙ୍କୁ କିଛି ପ୍ରାପ୍ୟ ସେଉମ୍ଧାଇ ଦେଲେ କିନ୍ତୁ ଦାନଟାହୁଇଛି ସମ୍ପୂନ ଅଲୋଗା, ଆମର ବେଳବେବେକଣ ହେର ଆନଭେଲେ ଆପଣିଥିବିବିବିବିବିବିବି'}"
      ]
     },
     "execution_count": 20,
     "metadata": {},
     "output_type": "execute_result"
    }
   ],
   "source": [
    "result = pipe(\"odia_audio_youtube.mp3\")\n",
    "result"
   ]
  },
  {
   "cell_type": "code",
   "execution_count": null,
   "metadata": {},
   "outputs": [],
   "source": []
  }
 ],
 "metadata": {
  "kernelspec": {
   "display_name": "diffusion_env",
   "language": "python",
   "name": "python3"
  },
  "language_info": {
   "codemirror_mode": {
    "name": "ipython",
    "version": 3
   },
   "file_extension": ".py",
   "mimetype": "text/x-python",
   "name": "python",
   "nbconvert_exporter": "python",
   "pygments_lexer": "ipython3",
   "version": "3.11.10"
  }
 },
 "nbformat": 4,
 "nbformat_minor": 2
}
