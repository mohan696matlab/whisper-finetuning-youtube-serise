{
 "cells": [
  {
   "cell_type": "code",
   "execution_count": 1,
   "metadata": {},
   "outputs": [],
   "source": [
    "from datasets import load_dataset\n",
    "import matplotlib.pyplot as plt\n",
    "import numpy as np\n",
    "from IPython.display import Audio\n",
    "from scipy.signal import resample\n",
    "import torch\n",
    "from tqdm import tqdm\n",
    "from torch.utils.data import DataLoader\n",
    "\n",
    "\n",
    "from transformers import WhisperTokenizer\n",
    "from transformers import WhisperFeatureExtractor\n",
    "from transformers import WhisperForConditionalGeneration\n",
    "\n",
    "import evaluate\n",
    "import re\n",
    "\n",
    "def normalize_text(text):\n",
    "    # Convert to lowercase\n",
    "    text = text.lower()\n",
    "    # Remove only \", ', and ,\n",
    "    text = re.sub(r'[\",\\']', '', text)\n",
    "    # Optional: remove extra spaces\n",
    "    text = re.sub(r'\\s+', ' ', text).strip()\n",
    "    return text\n",
    "\n",
    "\n",
    "wer  = evaluate.load('wer')\n",
    "\n",
    "\n",
    "\n",
    "def down_sample_audio(audio_original, original_sample_rate):\n",
    "    target_sample_rate = 16000\n",
    "\n",
    "    # Calculate the number of samples for the target sample rate\n",
    "    num_samples = int(len(audio_original) * target_sample_rate / original_sample_rate)\n",
    "\n",
    "    # Resample the audio array to the target sample rate\n",
    "    downsampled_audio = resample(audio_original, num_samples)\n",
    "\n",
    "    return downsampled_audio"
   ]
  },
  {
   "cell_type": "code",
   "execution_count": 2,
   "metadata": {},
   "outputs": [],
   "source": [
    "tokenizer = WhisperTokenizer.from_pretrained(\"openai/whisper-small\",language='bengali',task='translate')\n",
    "feature_extractor = WhisperFeatureExtractor.from_pretrained(\"openai/whisper-small\",language='bengali',task='translate')\n",
    "model = WhisperForConditionalGeneration.from_pretrained(\"openai/whisper-small\").to('cuda')"
   ]
  },
  {
   "cell_type": "code",
   "execution_count": 3,
   "metadata": {},
   "outputs": [],
   "source": [
    "from datasets import load_dataset,concatenate_datasets\n",
    "\n",
    "asr_dataset = load_dataset(\"Mohan-diffuser/odia-english-ASR\")"
   ]
  },
  {
   "cell_type": "code",
   "execution_count": 4,
   "metadata": {},
   "outputs": [
    {
     "data": {
      "text/plain": [
       "{'id': 62,\n",
       " 'num_samples': 159360,\n",
       " 'path': '/home/mohan.dash/.cache/huggingface/datasets/downloads/extracted/e2fcce8118681935ebfe4ee7e9b039155b764427d2269ffa5a66a0328fe9ec55/10020140876560357327.wav',\n",
       " 'audio': {'path': '10020140876560357327.wav',\n",
       "  'array': array([ 0.        ,  0.        ,  0.        , ..., -0.00582969,\n",
       "         -0.00332552, -0.00426018]),\n",
       "  'sampling_rate': 16000},\n",
       " 'transcription': 'ତାଙ୍କର 2 ଘଣ୍ଟାର ଭାଷଣରେ ସେ କହିଥିଲେ ଯେ ଆଜି apple ତାର ଫୋନକୁ ପୁଣି ଉଦ୍ଭାବନ କରିବାକୁ ଯାଉଛି ଆମେ ଆଜି ଇତିହାସ ରଚିବାକୁ ଯାଉଛୁ',\n",
       " 'raw_transcription': 'ତାଙ୍କର 2 ଘଣ୍ଟାର ଭାଷଣରେ ସେ କହିଥିଲେ ଯେ \"ଆଜି Apple ତାର ଫୋନକୁ ପୁଣି ଉଦ୍ଭାବନ କରିବାକୁ ଯାଉଛି, ଆମେ ଆଜି ଇତିହାସ ରଚିବାକୁ ଯାଉଛୁ।\"',\n",
       " 'gender': 1,\n",
       " 'lang_id': 72,\n",
       " 'language': 'Oriya',\n",
       " 'lang_group_id': 4,\n",
       " 'eng_translation': 'In his 2-hour speech, he said that today Apple is going to reinvent its phone. We are going to make history today.'}"
      ]
     },
     "execution_count": 4,
     "metadata": {},
     "output_type": "execute_result"
    }
   ],
   "source": [
    "asr_dataset['train'][0]\n"
   ]
  },
  {
   "cell_type": "code",
   "execution_count": 5,
   "metadata": {},
   "outputs": [
    {
     "data": {
      "image/png": "[encoded data removed]",
      "text/plain": [
       "<Figure size 640x480 with 1 Axes>"
      ]
     },
     "metadata": {},
     "output_type": "display_data"
    }
   ],
   "source": [
    "list_of_transcription_lengths = []\n",
    "\n",
    "tokenized_text = tokenizer(asr_dataset['train']['eng_translation']).input_ids\n",
    "\n",
    "for text in tokenized_text:\n",
    "    list_of_transcription_lengths.append(len(text))\n",
    "    # break\n",
    "\n",
    "plt.hist(list_of_transcription_lengths)\n",
    "plt.xlabel(\"sentence length\")\n",
    "plt.ylabel(\"number of transcripts\")\n",
    "plt.show()"
   ]
  },
  {
   "cell_type": "code",
   "execution_count": 7,
   "metadata": {},
   "outputs": [
    {
     "name": "stdout",
     "output_type": "stream",
     "text": [
      "-------0------\n",
      "true : in his 2-hour speech he said that today apple is going to reinvent its phone. we are going to make history today. \n",
      "pred :  I have been in the forest for 2 hours and I am going to do some work on the water and the fire.\n",
      "\n",
      " \n",
      "-------1------\n",
      "true : the games started with good weather in the morning 10:00 and apart from a midnight thunderstorm which cleared up quickly it was a perfect day for 7th rugby. \n",
      "pred :  The forest was completely destroyed by the heavy rain and the forest was completely destroyed by the heavy rain and the forest was completely destroyed by the heavy rain and the forest was completely destroyed by the heavy rain and the forest was completely destroyed by the heavy rain and the forest was completely destroyed by the heavy rain and the forest was completely destroyed by the heavy rain and the forest was completely destroyed by the heavy rain and the forest was completely destroyed by the heavy rain and the forest was completely destroyed by the heavy rain and the forest was completely destroyed by the heavy rain and the forest was completely destroyed by the heavy rain and the forest was completely destroyed by the heavy rain and the forest was completely destroyed by the heavy rain and the forest was completely destroyed by the heavy rain and the forest was completely destroyed by the heavy rain and the forest was completely destroyed by the heavy rain and the forest was completely destroyed by the heavy rain and the forest was completely destroyed by the heavy rain and the forest was completely destroyed by the heavy rain and the forest was completely destroyed by the heavy rain and the forest was completely destroyed by the heavy rain and the forest was completely destroyed by the heavy rain and the forest was completely destroyed by the heavy rain and the forest was completely destroyed by the heavy rain and the forest was completely destroyed by the heavy rain and the forest was completely destroyed by the heavy rain and the forest was completely destroyed by the heavy rain and the forest was completely destroyed by the heavy rain and the forest was completely destroyed by the heavy rain and the forest was completely destroyed by the heavy rain and the forest was completely destroyed by the heavy rain and the forest was completely destroyed by the heavy rain and the forest was completely destroyed by the heavy rain and the forest was completely destroyed by the heavy rain and the forest was completely destroyed by the heavy rain and the forest was completely destroyed by the heavy rain and the forest was completely destroyed by the heavy rain and the forest was completely destroyed by the heavy rain and the forest was completely destroyed by the heavy rain and the forest was completely destroyed by the heavy rain and the forest was completely destroyed by the heavy rain and the forest was completely destroyed by the heavy rain and the forest was completely destroyed by the heavy rain and the forest was completely\n",
      "\n",
      " \n",
      "-------2------\n",
      "true : if a rider is thrown from the horse but gets stuck in the saddle the horse will pull away if they run. there are a number of precautions that can be taken to avoid this risk. \n",
      "pred :  If the root is damaged, the root will be damaged and the root will be damaged. This is the reason why many people can't afford to do this.\n",
      "\n",
      " \n",
      "-------3------\n",
      "true : in 1995 he was named the best player in the history of partizan. \n",
      "pred :  I felt like I was going to be a part of this tradition\n",
      "\n",
      " \n",
      "-------4------\n",
      "true : it is still in production but more importantly the image sensor formats of digital cameras have inherited their aspect ratios. \n",
      "pred :  I am going to show you the details of the camera in detail.\n",
      "\n",
      " \n"
     ]
    }
   ],
   "source": [
    "import torch\n",
    "model.eval()\n",
    "model.config.use_cache=True\n",
    "\n",
    "for idx in range(5):\n",
    "\n",
    "    target = normalize_text(asr_dataset['train'][idx]['eng_translation'])\n",
    "    audio_original = asr_dataset['train'][idx]['audio']['array']\n",
    "    original_sample_rate = asr_dataset['train'][idx]['audio']['sampling_rate']\n",
    "\n",
    "    audio_16000 = down_sample_audio(audio_original, original_sample_rate)\n",
    "\n",
    "    input_feature = feature_extractor(raw_speech=audio_16000,\n",
    "                                    sampling_rate=16000,\n",
    "                                    return_tensors='pt').input_features\n",
    "\n",
    "    with torch.no_grad():\n",
    "        op = model.generate(input_feature.to('cuda'), language='bengali', task='translate')\n",
    "\n",
    "\n",
    "    text_pred =  tokenizer.batch_decode(op,skip_special_tokens=True )[0]\n",
    "\n",
    "    print(f'-------{idx}------')\n",
    "    print(f'true : {target} \\npred : {text_pred}')\n",
    "    print('\\n ')"
   ]
  },
  {
   "cell_type": "code",
   "execution_count": 8,
   "metadata": {},
   "outputs": [],
   "source": [
    "\n",
    "class whisper_training_dataset(torch.utils.data.Dataset):\n",
    "    def __init__(self, dataset, max_len):#daatset is huggingface dataset object\n",
    "        self.dataset = dataset\n",
    "        self.max_len = max_len\n",
    "        self.bos_token = model.config.decoder_start_token_id\n",
    "\n",
    "    def __len__(self):\n",
    "        return len(self.dataset)\n",
    "\n",
    "    def __getitem__(self, idx):\n",
    "        item = self.dataset[idx]\n",
    "\n",
    "        audio_data = down_sample_audio(item['audio'][\"array\"], item['audio'][\"sampling_rate\"])\n",
    "        input_features = feature_extractor(audio_data, sampling_rate=16000,return_tensors='pt').input_features[0]\n",
    "\n",
    "        # Process the transcription\n",
    "        transcription = normalize_text(item['eng_translation'])\n",
    "\n",
    "        # Create labels\n",
    "        labels = tokenizer(transcription, padding=\"max_length\", max_length=self.max_len, truncation=True, return_tensors=\"pt\")\n",
    "        labels = labels[\"input_ids\"].masked_fill(labels['attention_mask'].ne(1), -100)\n",
    "        labels = labels[0][1:]\n",
    "\n",
    "\n",
    "        return {\n",
    "            \"input_features\": input_features,\n",
    "            \"labels\": labels\n",
    "        }"
   ]
  },
  {
   "cell_type": "code",
   "execution_count": 9,
   "metadata": {},
   "outputs": [],
   "source": [
    "dataset = whisper_training_dataset(dataset=asr_dataset['train'], max_len=60)\n",
    "\n",
    "train_dataloader = torch.utils.data.DataLoader(\n",
    "    dataset,\n",
    "    batch_size=8,  # Adjust batch size as needed\n",
    "    shuffle=True,  # Shuffle data during training\n",
    ")"
   ]
  },
  {
   "cell_type": "code",
   "execution_count": 13,
   "metadata": {},
   "outputs": [],
   "source": [
    "def evaluation(model):\n",
    "\n",
    "    device='cuda'\n",
    "\n",
    "    test_dataset = whisper_training_dataset(dataset=asr_dataset['validation'], max_len=60)\n",
    "\n",
    "    test_dataloader = torch.utils.data.DataLoader(\n",
    "        test_dataset,\n",
    "        batch_size=8,  # Adjust batch size as needed\n",
    "        shuffle=True,  # Shuffle data during training\n",
    "    )\n",
    "\n",
    "    model.eval()\n",
    "\n",
    "    predictions=[]\n",
    "    references=[]\n",
    "\n",
    "    for batch in tqdm(test_dataloader,total=len(test_dataloader)):\n",
    "        \n",
    "\n",
    "        model.eval()  # Set model to training mode\n",
    "        model.config.use_cache = True\n",
    "\n",
    "        input_features, labels = batch[\"input_features\"].to(device), batch[\"labels\"].to(device)\n",
    "\n",
    "        with torch.no_grad():\n",
    "            generated_tokens = model.generate(input_features=input_features,language='bengali', task='translate')\n",
    "                        \n",
    "        decoded_preds = tokenizer.batch_decode(generated_tokens, skip_special_tokens=True)\n",
    "        decoded_labels = tokenizer.batch_decode(labels, skip_special_tokens=True)\n",
    "        predictions.extend(decoded_preds)\n",
    "        references.extend(decoded_labels)\n",
    "\n",
    "    WER = wer.compute(predictions=predictions, references=references) * 100\n",
    "\n",
    "    return WER"
   ]
  },
  {
   "cell_type": "code",
   "execution_count": 43,
   "metadata": {},
   "outputs": [
    {
     "name": "stderr",
     "output_type": "stream",
     "text": [
      "100%|██████████| 49/49 [04:38<00:00,  5.67s/it]\n"
     ]
    },
    {
     "data": {
      "text/plain": [
       "204.23869893712384"
      ]
     },
     "execution_count": 43,
     "metadata": {},
     "output_type": "execute_result"
    }
   ],
   "source": [
    "# WER before the training\n",
    "torch.cuda.empty_cache()\n",
    "evaluation(model)"
   ]
  },
  {
   "cell_type": "code",
   "execution_count": 10,
   "metadata": {},
   "outputs": [
    {
     "name": "stdout",
     "output_type": "stream",
     "text": [
      "trainable params: 10,616,832 || all params: 252,351,744 || trainable%: 4.2072\n"
     ]
    }
   ],
   "source": [
    "from peft import LoraConfig, PeftModel, LoraModel, LoraConfig, get_peft_model\n",
    "\n",
    "config = LoraConfig(r=64, lora_alpha=64, target_modules=[\"q_proj\", \"v_proj\", \"q_proj\", \"out_proj\"], lora_dropout=0.05, bias=\"none\")\n",
    "\n",
    "model = get_peft_model(model, config)\n",
    "model.print_trainable_parameters()\n",
    "\n",
    "# model.save_pretrained('lora_model')\n",
    "\n",
    "# model = PeftModel.from_pretrained(model,model_id='lora_model')\n",
    "\n",
    "# for n,p in model.named_parameters():\n",
    "#     print(n,p.requires_grad)\n",
    "\n"
   ]
  },
  {
   "cell_type": "code",
   "execution_count": 11,
   "metadata": {},
   "outputs": [],
   "source": [
    "\n",
    "test_dataset = whisper_training_dataset(dataset=asr_dataset['validation'], max_len=60)\n",
    "\n",
    "test_dataloader = torch.utils.data.DataLoader(\n",
    "    test_dataset,\n",
    "    batch_size=8,  # Adjust batch size as needed\n",
    "    shuffle=True,  # Shuffle data during training\n",
    ")"
   ]
  },
  {
   "cell_type": "code",
   "execution_count": 15,
   "metadata": {},
   "outputs": [
    {
     "name": "stderr",
     "output_type": "stream",
     "text": [
      "                                                 \r"
     ]
    },
    {
     "ename": "KeyboardInterrupt",
     "evalue": "",
     "output_type": "error",
     "traceback": [
      "\u001b[0;31m---------------------------------------------------------------------------\u001b[0m",
      "\u001b[0;31mKeyboardInterrupt\u001b[0m                         Traceback (most recent call last)",
      "Cell \u001b[0;32mIn[15], line 36\u001b[0m\n\u001b[1;32m     33\u001b[0m loss \u001b[38;5;241m=\u001b[39m loss \u001b[38;5;241m/\u001b[39m gradient_accumulation_steps  \u001b[38;5;66;03m# Scale the loss\u001b[39;00m\n\u001b[1;32m     35\u001b[0m loss\u001b[38;5;241m.\u001b[39mbackward()\n\u001b[0;32m---> 36\u001b[0m accumulated_loss \u001b[38;5;241m+\u001b[39m\u001b[38;5;241m=\u001b[39m \u001b[43mloss\u001b[49m\u001b[38;5;241;43m.\u001b[39;49m\u001b[43mitem\u001b[49m\u001b[43m(\u001b[49m\u001b[43m)\u001b[49m\n\u001b[1;32m     38\u001b[0m \u001b[38;5;28;01mif\u001b[39;00m (step \u001b[38;5;241m+\u001b[39m \u001b[38;5;241m1\u001b[39m) \u001b[38;5;241m%\u001b[39m gradient_accumulation_steps \u001b[38;5;241m==\u001b[39m \u001b[38;5;241m0\u001b[39m:\n\u001b[1;32m     39\u001b[0m     optimizer\u001b[38;5;241m.\u001b[39mstep()\n",
      "\u001b[0;31mKeyboardInterrupt\u001b[0m: "
     ]
    }
   ],
   "source": [
    "from IPython.display import clear_output\n",
    "import matplotlib.pyplot as plt\n",
    "import torch\n",
    "from tqdm import tqdm\n",
    "\n",
    "torch.cuda.empty_cache()\n",
    "model.config.use_cache = False\n",
    "model.train()\n",
    "\n",
    "device = 'cuda'\n",
    "# Filter parameters with requires_grad=True\n",
    "requires_grad_params = filter(lambda x: x[1].requires_grad, model.parameters())\n",
    "optimizer = torch.optim.AdamW(requires_grad_params, lr=5e-4)  # Only for LoRA Training\n",
    "\n",
    "max_epochs = 4\n",
    "gradient_accumulation_steps = 4\n",
    "\n",
    "running_train_loss = []\n",
    "running_val_loss = []\n",
    "running_wer = []\n",
    "\n",
    "global_step = 0\n",
    "accumulated_loss = 0\n",
    "\n",
    "for epoch in range(max_epochs):\n",
    "    for step, batch in enumerate(tqdm(train_dataloader, total=len(train_dataloader), leave=False)):\n",
    "\n",
    "        model.train()\n",
    "        input_features, labels = batch[\"input_features\"].to(device), batch[\"labels\"].to(device)\n",
    "\n",
    "        outputs = model(input_features, labels=labels)\n",
    "        loss = outputs.loss\n",
    "        loss = loss / gradient_accumulation_steps  # Scale the loss\n",
    "\n",
    "        loss.backward()\n",
    "        accumulated_loss += loss.item()\n",
    "\n",
    "        if (step + 1) % gradient_accumulation_steps == 0:\n",
    "            optimizer.step()\n",
    "            optimizer.zero_grad()\n",
    "            running_train_loss.append(accumulated_loss)\n",
    "            accumulated_loss = 0\n",
    "            global_step += 1\n",
    "\n",
    "            # Validation loop\n",
    "            if global_step % 50 == 0:\n",
    "                model.eval()\n",
    "                val_loss = 0.0\n",
    "                with torch.no_grad():\n",
    "                    for val_batch in test_dataloader:\n",
    "                        val_input, val_labels = val_batch[\"input_features\"].to(device), val_batch[\"labels\"].to(device)\n",
    "                        val_outputs = model(val_input, labels=val_labels)\n",
    "                        val_loss += val_outputs.loss.item()\n",
    "                val_loss /= len(test_dataloader)\n",
    "                running_val_loss.append(val_loss)\n",
    "\n",
    "                # Plot both train and val loss\n",
    "                clear_output(wait=True)\n",
    "                plt.plot(running_train_loss, label='Training Loss')\n",
    "                plt.plot([i * 5 for i in range(len(running_val_loss))], running_val_loss, label='Validation Loss')\n",
    "                plt.xlabel('Steps')\n",
    "                plt.ylabel('Loss')\n",
    "                plt.legend()\n",
    "                plt.grid()\n",
    "                plt.title(f'Epoch {epoch+1}, Step {step+1}')\n",
    "                plt.show()\n",
    "\n",
    "            # Save model every 100 global steps\n",
    "            if global_step % 100 == 0:\n",
    "                model.save_pretrained('lora_model')\n",
    "\n",
    "    torch.cuda.empty_cache()\n",
    "    wer = evaluation(model)  # Assuming evaluation returns WER\n",
    "    running_wer.append(wer)\n"
   ]
  },
  {
   "cell_type": "code",
   "execution_count": 47,
   "metadata": {},
   "outputs": [
    {
     "data": {
      "text/plain": [
       "[157.30567294147778, 153.37431169163784]"
      ]
     },
     "execution_count": 47,
     "metadata": {},
     "output_type": "execute_result"
    }
   ],
   "source": [
    "running_wer"
   ]
  },
  {
   "cell_type": "markdown",
   "metadata": {},
   "source": [
    "# Evaluate the model"
   ]
  },
  {
   "cell_type": "code",
   "execution_count": 5,
   "metadata": {},
   "outputs": [],
   "source": [
    "from datasets import load_dataset\n",
    "import matplotlib.pyplot as plt\n",
    "import numpy as np\n",
    "from IPython.display import Audio\n",
    "from scipy.signal import resample\n",
    "import torch\n",
    "from tqdm import tqdm\n",
    "from torch.utils.data import DataLoader\n",
    "\n",
    "\n",
    "from transformers import WhisperTokenizer\n",
    "from transformers import WhisperFeatureExtractor\n",
    "from transformers import WhisperForConditionalGeneration\n",
    "\n",
    "from peft import LoraConfig, get_peft_model, PeftModel\n",
    "\n",
    "import evaluate\n",
    "#pip install jiwer\n",
    "\n",
    "wer  = evaluate.load('wer')\n",
    "\n",
    "\n",
    "\n",
    "def down_sample_audio(audio_original, original_sample_rate):\n",
    "    target_sample_rate = 16000\n",
    "\n",
    "    # Calculate the number of samples for the target sample rate\n",
    "    num_samples = int(len(audio_original) * target_sample_rate / original_sample_rate)\n",
    "\n",
    "    # Resample the audio array to the target sample rate\n",
    "    downsampled_audio = resample(audio_original, num_samples)\n",
    "\n",
    "    return downsampled_audio\n",
    "\n",
    "tokenizer = WhisperTokenizer.from_pretrained(\"openai/whisper-small\",language='bengali',task='translate')\n",
    "feature_extractor = WhisperFeatureExtractor.from_pretrained(\"openai/whisper-small\",language='bengali',task='translate')\n",
    "model = WhisperForConditionalGeneration.from_pretrained(\"openai/whisper-small\").to('cuda')\n",
    "\n",
    "model = PeftModel.from_pretrained(model, 'lora_adapter', is_trainable=False)\n",
    "\n",
    "model.eval()\n",
    "model.to('cuda')\n",
    "\n",
    "\n",
    "torch.cuda.empty_cache()\n"
   ]
  },
  {
   "cell_type": "code",
   "execution_count": 7,
   "metadata": {},
   "outputs": [
    {
     "name": "stdout",
     "output_type": "stream",
     "text": [
      "-------0------\n",
      "true : Animals such as elephants and giraffes have a tendency to come up to take a closer look at cars and standard equipment that looks good. \n",
      "pred : Consultation is an excellent way to see the car and well seen by the hand-made animals of the pastures.\n",
      "\n",
      " \n",
      "-------1------\n",
      "true : Please treat this place with the honesty, seriousness, and respect it deserves. Don't make jokes about the Holocaust or the Nazis. \n",
      "pred : Sympathy in the place is hard to think of with deep feelings and thoughts about alcoholics or alcoholic topics.\n",
      "\n",
      " \n",
      "-------2------\n",
      "true : 108 types of Chhapan Bhog In Hinduism, 56 types of food items such as sweet fruits, almond dishes, etc. which are offered to God were offered to Baba Shyam. \n",
      "pred : The 18-day anniversary of the event was celebrated by the Hinduism and by the sweet fruit-ed-grain season as well as the season of the season of the season of the season of the season of the season of the season of the season of the season of the season of the season of the season of the season of the season of the season of the season of the season of the season of the season of the season of the season of the season of the season of the season of the season of the season of the season of the season of the season of the season of the season of the season of the season of the season of the season of the season of the season of the season of the season of the season of the season of the season of the season of the season of the season of the season of the season of the season of the season of the season of the season of the season of the season of the season of the season of the season of the season of the season of the season of the season of the season of the season of the season of the season of the season of the season of the season of the season of the season of the season of the season of the season of the season of the season of the season of the season of the season of the season of the season of the season of the season of the season of the season of the season of the season of the season of the season of the season of the season of the season of the season of the season of the season of the season of the season of the season of the season of the season of the season of the season of the season of the season of the season of the season of the season of the season of the season of the season of the season of the season of the season of the season of the season of the season of the season of the season of the season of the season of the season of the season of the season of the season of the season\n",
      "\n",
      " \n",
      "-------3------\n",
      "true : Currently widely available throughout the archipelago, Javanese cuisine has a long tradition of seasonal dishes that are flavored with Javanese peanut chili sugar, especially Javanese coconut sugar, and various aromatic spices. \n",
      "pred : Early in the archipelago of all Archipelago, the island has an important part in the Brazilian economy, such as the Chinese word for javanejman, china, and other related problems.\n",
      "\n",
      " \n",
      "-------4------\n",
      "true : Initially, clothing was heavily influenced by the Byzantine culture of the East. \n",
      "pred : In the beginning, the taste of the past has been influenced by the white white sandal.\n",
      "\n",
      " \n"
     ]
    }
   ],
   "source": [
    "import torch\n",
    "model.eval()\n",
    "model.config.use_cache=True\n",
    "\n",
    "for idx in range(5):\n",
    "\n",
    "    target = asr_dataset['validation'][idx]['eng_translation']\n",
    "    audio_original = asr_dataset['validation'][idx]['audio']['array']\n",
    "    original_sample_rate = asr_dataset['validation'][idx]['audio']['sampling_rate']\n",
    "\n",
    "    audio_16000 = down_sample_audio(audio_original, original_sample_rate)\n",
    "\n",
    "    input_feature = feature_extractor(raw_speech=audio_16000,\n",
    "                                    sampling_rate=16000,\n",
    "                                    return_tensors='pt').input_features\n",
    "\n",
    "    with torch.no_grad():\n",
    "        op = model.generate(input_feature.to('cuda'), language='bengali', task='translate')\n",
    "\n",
    "\n",
    "    text_pred =  tokenizer.batch_decode(op,skip_special_tokens=True )[0]\n",
    "\n",
    "    print(f'-------{idx}------')\n",
    "    print(f'true : {target} \\npred : {text_pred}')\n",
    "    print('\\n ')"
   ]
  }
 ],
 "metadata": {
  "kernelspec": {
   "display_name": "diffusion_env",
   "language": "python",
   "name": "python3"
  },
  "language_info": {
   "codemirror_mode": {
    "name": "ipython",
    "version": 3
   },
   "file_extension": ".py",
   "mimetype": "text/x-python",
   "name": "python",
   "nbconvert_exporter": "python",
   "pygments_lexer": "ipython3",
   "version": "3.11.10"
  }
 },
 "nbformat": 4,
 "nbformat_minor": 2
}
